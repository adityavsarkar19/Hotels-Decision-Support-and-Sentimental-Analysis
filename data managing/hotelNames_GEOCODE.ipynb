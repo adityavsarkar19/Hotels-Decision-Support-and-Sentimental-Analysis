{
 "metadata": {
  "language_info": {
   "codemirror_mode": {
    "name": "ipython",
    "version": 3
   },
   "file_extension": ".py",
   "mimetype": "text/x-python",
   "name": "python",
   "nbconvert_exporter": "python",
   "pygments_lexer": "ipython3",
   "version": "3.9.2"
  },
  "orig_nbformat": 2,
  "kernelspec": {
   "name": "python392jvsc74a57bd01fb59a1ceeb0efbd7f3c1dc5e3b1d558c7f8069c81e9fea8d11863a085739b64",
   "display_name": "Python 3.9.2 64-bit ('env')"
  }
 },
 "nbformat": 4,
 "nbformat_minor": 2,
 "cells": [
  {
   "cell_type": "code",
   "execution_count": 13,
   "metadata": {},
   "outputs": [
    {
     "output_type": "execute_result",
     "data": {
      "text/plain": [
       "True"
      ]
     },
     "metadata": {},
     "execution_count": 13
    }
   ],
   "source": [
    "import csv\n",
    "import json\n",
    "import os\n",
    "import requests\n",
    "import pandas as pd\n",
    "from dotenv import load_dotenv; load_dotenv()"
   ]
  },
  {
   "source": [
    "Loading json file containing hotel data"
   ],
   "cell_type": "markdown",
   "metadata": {}
  },
  {
   "cell_type": "code",
   "execution_count": 14,
   "metadata": {},
   "outputs": [],
   "source": [
    "json_file = \"Bangkok.json\"  # to edit\n",
    "filepath = \"/Users/pritish/projects/Hotels-Decision-Support-and-Sentimental-Analysis\"\n",
    "\n",
    "with open(os.path.join(filepath,json_file)) as file:\n",
    "    data = json.load(file)"
   ]
  },
  {
   "source": [
    "Requesting geocode data through geocodeapi using hotel addresses."
   ],
   "cell_type": "markdown",
   "metadata": {}
  },
  {
   "cell_type": "code",
   "execution_count": 15,
   "metadata": {},
   "outputs": [
    {
     "output_type": "stream",
     "name": "stdout",
     "text": [
      "Element Kuala Lumpur Hotel\n",
      "The RuMa Hotel and Residences, Kuala Lumpur\n",
      "Four Seasons Hotel Kuala Lumpur\n",
      "Mandarin Oriental, Kuala Lumpur Hotel\n",
      "Banyan Tree Kuala Lumpur Hotel\n",
      "Hilton Kuala Lumpur Hotel\n",
      "Lanson Place Bukit Ceylon Serviced Residences Hotel, Kuala Lumpur\n",
      "Grand Hyatt Kuala Lumpur Hotel\n",
      "The Majestic Hotel Kuala Lumpur\n",
      "Oasia Suites Kuala Lumpur by Far East Hospitality Hotel\n",
      "Sunway Velocity Hotel, Kuala Lumpur\n",
      "PARKROYAL Serviced Suites Kuala Lumpur Hotel\n",
      "Sunway Putra Hotel, Kuala Lumpur\n",
      "Traders Hotel, Kuala Lumpur\n",
      "Royale Chulan Kuala Lumpur Hotel\n",
      "Komune Living Hotel, Kuala Lumpur\n",
      "Metro Hotel, Kuala Lumpur\n",
      "Pullman Kuala Lumpur City Centre Hotel & Residences\n",
      "Corus Hotel Kuala Lumpur\n",
      "Seri Pacific Hotel Kuala Lumpur\n"
     ]
    }
   ],
   "source": [
    "API_KEY = os.getenv('GEOCODE_API_KEY')\n",
    "url = 'https://app.geocodeapi.io/api/v1/search'\n",
    "\n",
    "for i in data.keys():\n",
    "    address = data[i]['address']\n",
    "    response = requests.get(url, params = {'apikey': API_KEY,'text': address}).json()\n",
    "    # accessing coordinates\n",
    "    features = response['features']\n",
    "    geometry = features[0]['geometry']\n",
    "    coord = geometry['coordinates']\n",
    "    data[i]['geocode'] = coord\n",
    "    print(i)"
   ]
  },
  {
   "source": [
    "Adding co-ordinates to JSON data files"
   ],
   "cell_type": "markdown",
   "metadata": {}
  },
  {
   "cell_type": "code",
   "execution_count": 16,
   "metadata": {},
   "outputs": [],
   "source": [
    "with open(os.path.join(filepath,json_file), 'w') as outfile:\n",
    "            json.dump(data, outfile, indent=4)"
   ]
  },
  {
   "source": [
    "Extracting hotel names and geocodes into a Data Frame"
   ],
   "cell_type": "markdown",
   "metadata": {}
  },
  {
   "cell_type": "code",
   "execution_count": 28,
   "metadata": {},
   "outputs": [
    {
     "output_type": "execute_result",
     "data": {
      "text/plain": [
       "                                    Hotel_Name   Longitude  Latitude\n",
       "0                   Element Kuala Lumpur Hotel  101.718394  3.158934\n",
       "1  The RuMa Hotel and Residences, Kuala Lumpur  101.721146  3.150499\n",
       "2              Four Seasons Hotel Kuala Lumpur  113.833569  2.521947\n",
       "3        Mandarin Oriental, Kuala Lumpur Hotel  101.709852  3.149475\n",
       "4               Banyan Tree Kuala Lumpur Hotel  101.713741  3.150451"
      ],
      "text/html": "<div>\n<style scoped>\n    .dataframe tbody tr th:only-of-type {\n        vertical-align: middle;\n    }\n\n    .dataframe tbody tr th {\n        vertical-align: top;\n    }\n\n    .dataframe thead th {\n        text-align: right;\n    }\n</style>\n<table border=\"1\" class=\"dataframe\">\n  <thead>\n    <tr style=\"text-align: right;\">\n      <th></th>\n      <th>Hotel_Name</th>\n      <th>Longitude</th>\n      <th>Latitude</th>\n    </tr>\n  </thead>\n  <tbody>\n    <tr>\n      <th>0</th>\n      <td>Element Kuala Lumpur Hotel</td>\n      <td>101.718394</td>\n      <td>3.158934</td>\n    </tr>\n    <tr>\n      <th>1</th>\n      <td>The RuMa Hotel and Residences, Kuala Lumpur</td>\n      <td>101.721146</td>\n      <td>3.150499</td>\n    </tr>\n    <tr>\n      <th>2</th>\n      <td>Four Seasons Hotel Kuala Lumpur</td>\n      <td>113.833569</td>\n      <td>2.521947</td>\n    </tr>\n    <tr>\n      <th>3</th>\n      <td>Mandarin Oriental, Kuala Lumpur Hotel</td>\n      <td>101.709852</td>\n      <td>3.149475</td>\n    </tr>\n    <tr>\n      <th>4</th>\n      <td>Banyan Tree Kuala Lumpur Hotel</td>\n      <td>101.713741</td>\n      <td>3.150451</td>\n    </tr>\n  </tbody>\n</table>\n</div>"
     },
     "metadata": {},
     "execution_count": 28
    }
   ],
   "source": [
    "to_add = []\n",
    "columns = ['Hotel_Name','Longitude','Latitude']\n",
    "for i in data.keys():\n",
    "    values = [i, data[i]['geocode'][0], data[i]['geocode'][1]]\n",
    "    zipped_dict = dict(zip(columns, values))\n",
    "    to_add.append(zipped_dict)\n",
    "# Making pandas dataframe\n",
    "df = pd.DataFrame(to_add)\n",
    "df.head()"
   ]
  },
  {
   "source": [
    "Write geocode pertinent data to a csv file\n"
   ],
   "cell_type": "markdown",
   "metadata": {}
  },
  {
   "cell_type": "code",
   "execution_count": 29,
   "metadata": {},
   "outputs": [],
   "source": [
    "output_filename = json_file[:-5]\n",
    "with open(os.path.join(filepath,f'{output_filename}_hotelsGeocode.csv'), 'w', newline='') as file:\n",
    "    df.to_csv(file)\n"
   ]
  }
 ]
}