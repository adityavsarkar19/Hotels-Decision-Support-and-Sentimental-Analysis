{
 "metadata": {
  "language_info": {
   "codemirror_mode": {
    "name": "ipython",
    "version": 3
   },
   "file_extension": ".py",
   "mimetype": "text/x-python",
   "name": "python",
   "nbconvert_exporter": "python",
   "pygments_lexer": "ipython3",
   "version": "3.9.2"
  },
  "orig_nbformat": 2,
  "kernelspec": {
   "name": "python392jvsc74a57bd01fb59a1ceeb0efbd7f3c1dc5e3b1d558c7f8069c81e9fea8d11863a085739b64",
   "display_name": "Python 3.9.2 64-bit ('env')"
  }
 },
 "nbformat": 4,
 "nbformat_minor": 2,
 "cells": [
  {
   "cell_type": "code",
   "execution_count": 1,
   "metadata": {},
   "outputs": [],
   "source": [
    "import pandas as pd\n",
    "import numpy as np\n",
    "import matplotlib.pyplot as plt\n",
    "import os\n",
    "from dotenv import load_dotenv"
   ]
  },
  {
   "source": [
    "Loading data from CSV files"
   ],
   "cell_type": "markdown",
   "metadata": {}
  },
  {
   "cell_type": "code",
   "execution_count": 2,
   "metadata": {},
   "outputs": [
    {
     "output_type": "execute_result",
     "data": {
      "text/plain": [
       "    0                                Hotel_name   Longitude   Latitude\n",
       "0   1                      Hotel Verve, Bangkok  100.578996  13.725610\n",
       "1   2      Novotel Bangkok on Siam Square Hotel  100.538396  13.754125\n",
       "2   3                            FuramaXclusive  100.561906  13.739973\n",
       "3   4          Asoke Residence Sukhumvit by UHG  100.541551  13.740560\n",
       "4   5          Siri Sathorn Bangkok by UHG Hote  100.538608  13.725605\n",
       "5   6                     SKYVIEW Hotel Bangkok  100.528684  13.722024\n",
       "6   7            Alt Hotel Nana by UHG, Bangkok  100.552199  13.735083\n",
       "7   8  The Quarter Ladprao by UHG Hotel, Bangko  100.561013  13.812383\n",
       "8   9     The Quarter Ari by UHG Hotel, Bangkok  100.546700  13.784726\n",
       "9  10           Millennium Hilton Bangkok Hotel  100.511653  13.728635"
      ],
      "text/html": "<div>\n<style scoped>\n    .dataframe tbody tr th:only-of-type {\n        vertical-align: middle;\n    }\n\n    .dataframe tbody tr th {\n        vertical-align: top;\n    }\n\n    .dataframe thead th {\n        text-align: right;\n    }\n</style>\n<table border=\"1\" class=\"dataframe\">\n  <thead>\n    <tr style=\"text-align: right;\">\n      <th></th>\n      <th>0</th>\n      <th>Hotel_name</th>\n      <th>Longitude</th>\n      <th>Latitude</th>\n    </tr>\n  </thead>\n  <tbody>\n    <tr>\n      <th>0</th>\n      <td>1</td>\n      <td>Hotel Verve, Bangkok</td>\n      <td>100.578996</td>\n      <td>13.725610</td>\n    </tr>\n    <tr>\n      <th>1</th>\n      <td>2</td>\n      <td>Novotel Bangkok on Siam Square Hotel</td>\n      <td>100.538396</td>\n      <td>13.754125</td>\n    </tr>\n    <tr>\n      <th>2</th>\n      <td>3</td>\n      <td>FuramaXclusive</td>\n      <td>100.561906</td>\n      <td>13.739973</td>\n    </tr>\n    <tr>\n      <th>3</th>\n      <td>4</td>\n      <td>Asoke Residence Sukhumvit by UHG</td>\n      <td>100.541551</td>\n      <td>13.740560</td>\n    </tr>\n    <tr>\n      <th>4</th>\n      <td>5</td>\n      <td>Siri Sathorn Bangkok by UHG Hote</td>\n      <td>100.538608</td>\n      <td>13.725605</td>\n    </tr>\n    <tr>\n      <th>5</th>\n      <td>6</td>\n      <td>SKYVIEW Hotel Bangkok</td>\n      <td>100.528684</td>\n      <td>13.722024</td>\n    </tr>\n    <tr>\n      <th>6</th>\n      <td>7</td>\n      <td>Alt Hotel Nana by UHG, Bangkok</td>\n      <td>100.552199</td>\n      <td>13.735083</td>\n    </tr>\n    <tr>\n      <th>7</th>\n      <td>8</td>\n      <td>The Quarter Ladprao by UHG Hotel, Bangko</td>\n      <td>100.561013</td>\n      <td>13.812383</td>\n    </tr>\n    <tr>\n      <th>8</th>\n      <td>9</td>\n      <td>The Quarter Ari by UHG Hotel, Bangkok</td>\n      <td>100.546700</td>\n      <td>13.784726</td>\n    </tr>\n    <tr>\n      <th>9</th>\n      <td>10</td>\n      <td>Millennium Hilton Bangkok Hotel</td>\n      <td>100.511653</td>\n      <td>13.728635</td>\n    </tr>\n  </tbody>\n</table>\n</div>"
     },
     "metadata": {},
     "execution_count": 2
    }
   ],
   "source": [
    "filepath2 = '/Users/pritish/projects/Hotels-Decision-Support-and-Sentimental-Analysis/Map Plots/top10_polaritymaps/'\n",
    "filename = 'Bangkok_Polarity_Coords.csv'\n",
    "\n",
    "df = pd.read_csv(os.path.join(filepath2, filename))\n",
    "df"
   ]
  },
  {
   "source": [
    "Using Mapbox"
   ],
   "cell_type": "markdown",
   "metadata": {}
  },
  {
   "cell_type": "code",
   "execution_count": null,
   "metadata": {},
   "outputs": [],
   "source": [
    "load_dotenv()\n",
    "apitoken = os.getenv('mapbox_token')\n",
    "\n",
    "import plotly.graph_objects as go\n",
    "mapbox_access_token = apitoken"
   ]
  },
  {
   "cell_type": "code",
   "execution_count": null,
   "metadata": {},
   "outputs": [],
   "source": [
    "fig = go.Figure(go.Scattermapbox(\n",
    "        lat= df['Latitude'],\n",
    "        lon= df['Longitude'],\n",
    "        mode='markers',\n",
    "        marker=go.scattermapbox.Marker(\n",
    "            size=6\n",
    "        ),\n",
    "        text= df['Hotel_name'],\n",
    "    ))\n",
    "\n",
    "fig.update_layout(\n",
    "    title_text = 'Bangkok - Top 10 hotels based on overall calculated polarity score',\n",
    "    autosize=True,\n",
    "    hovermode='closest',\n",
    "    mapbox=dict(\n",
    "        accesstoken=mapbox_access_token,\n",
    "        bearing=0,\n",
    "        center=dict(\n",
    "            lat=df['Latitude'].mean(),\n",
    "            lon=df['Longitude'].mean()\n",
    "        ),\n",
    "        pitch=0,\n",
    "        zoom=12\n",
    "    ),\n",
    ")\n",
    "\n",
    "fig.show()"
   ]
  }
 ]
}