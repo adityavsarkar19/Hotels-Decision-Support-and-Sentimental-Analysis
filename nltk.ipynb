{
 "metadata": {
  "language_info": {
   "codemirror_mode": {
    "name": "ipython",
    "version": 3
   },
   "file_extension": ".py",
   "mimetype": "text/x-python",
   "name": "python",
   "nbconvert_exporter": "python",
   "pygments_lexer": "ipython3",
   "version": "3.8.5-final"
  },
  "orig_nbformat": 2,
  "kernelspec": {
   "name": "python385jvsc74a57bd023f0105a070d1d59ef6680310d87a47d18f97397f0cab46047816bd0620257e2",
   "display_name": "Python 3.8.5 64-bit (conda)"
  }
 },
 "nbformat": 4,
 "nbformat_minor": 2,
 "cells": [
  {
   "cell_type": "code",
   "execution_count": 32,
   "metadata": {},
   "outputs": [],
   "source": [
    "from collections import defaultdict, Counter\n",
    "import json\n",
    "import string\n",
    "from pathlib import Path\n",
    "import os\n",
    "from nltk.tokenize import word_tokenize\n",
    "from nltk.corpus import stopwords\n",
    "import pandas as pd\n",
    "import numpy as np\n",
    "from nltk.sentiment.vader import SentimentIntensityAnalyzer\n",
    "import statistics\n",
    "import csv\n",
    "\n",
    "current_path = str(Path().absolute())\n",
    "link_to_data = current_path + \"/Singapore.json\"\n",
    "\n",
    "with open(link_to_data) as f:\n",
    "\tdata = json.loads(f.read())"
   ]
  },
  {
   "cell_type": "code",
   "execution_count": 33,
   "metadata": {},
   "outputs": [
    {
     "output_type": "stream",
     "name": "stdout",
     "text": [
      "[['The Fullerton Hotel Singapore', 9.641], ['Shangri-La Hotel, Singapore', 9.673], ['Pan Pacific Singapore Hotel', 9.419], ['Orchard Hotel Singapore', 9.158999999999999], ['PARKROYAL COLLECTION Marina Bay, Singapore Hotel', 9.628], ['Marina Bay Sands Hotel, Singapore', 9.624500000000001], ['Goodwood Park Hotel, Singapore', 9.4155], ['Park Hotel Alexandra, Singapore', 9.2985], ['Park Hotel Clarke Quay, Singapore', 9.2385], ['PARKROYAL COLLECTION Pickering, Singapore Hotel', 9.1035], ['Carlton Hotel Singapore', 9.3505], ['Capri by Fraser Changi City Hotel, Singapore', 9.413], ['YOTEL Singapore Hotel', 9.126000000000001], ['Ascott Orchard Singapore Hotel', 9.058], ['Mandarin Orchard Singapore Hotel', 9.196], [\"Lloyd's Inn Singapore Hotel\", 9.5045], ['Grand Park Orchard Hotel, Singapore', 9.059000000000001], ['Hotel NuVe Heritage, Singapore', 9.5345], ['Hotel G Singapore', 9.5625], ['YOTELAIR Singapore Changi Airport Hotel', 9.189499999999999]]\n"
     ]
    }
   ],
   "source": [
    "# Final and initial score array \n",
    "checkout_array = list()\n",
    "checkout_hotel_details_array = list()\n",
    "\n",
    "for key, value in data.items():\n",
    "    sums = 0\n",
    "    temp_list = list()    \n",
    "    if 'reviews' in value:\n",
    "        for name, review in value['reviews'].items():\n",
    "                current_review=review['review_text']\n",
    "                # Convert any uppercase letter to lowercase\n",
    "                current_review = current_review.lower()\n",
    "                # Remove any special character from the review comments \n",
    "                review_comments = current_review.translate(str.maketrans('', '', string.punctuation))\n",
    "                # Create tokenize words \n",
    "                tokenized_reviews = word_tokenize(review_comments,\"english\")\n",
    "                #Removing the stop words from the comments \n",
    "                final_review_comments = list() \n",
    "                # Loop over the tokenized reviews, and append the non stop words \n",
    "                for word in tokenized_reviews:\n",
    "                        if word not in stopwords.words('english'):\n",
    "                                final_review_comments.append(word)\n",
    "                # Function to count the sentiments of the given reviews for the hotel        \n",
    "                def analyse_sentiment(sentiment_text):\n",
    "                        score = SentimentIntensityAnalyzer().polarity_scores(sentiment_text)\n",
    "                        negative = score['neg']\n",
    "                        positive = score['pos']\n",
    "                        neutral = score['neu']\n",
    "                        compound = score['compound']\n",
    "                        #print(score)\n",
    "                        return compound\n",
    "\n",
    "                total = analyse_sentiment(review_comments)\n",
    "                #         print(abs(total))\n",
    "                #         sums += abs(total)\n",
    "                        # Append the compound\n",
    "                temp_list.append(abs(total))\n",
    "                \n",
    "              \n",
    "        checkout_hotel_details_array.append([key, statistics.median(temp_list) * 10])\n",
    "print( checkout_hotel_details_array)"
   ]
  }
 ]
}