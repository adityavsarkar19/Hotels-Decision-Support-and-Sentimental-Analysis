{
 "metadata": {
  "language_info": {
   "codemirror_mode": {
    "name": "ipython",
    "version": 3
   },
   "file_extension": ".py",
   "mimetype": "text/x-python",
   "name": "python",
   "nbconvert_exporter": "python",
   "pygments_lexer": "ipython3",
   "version": "3.9.2"
  },
  "orig_nbformat": 2,
  "kernelspec": {
   "name": "python392jvsc74a57bd01fb59a1ceeb0efbd7f3c1dc5e3b1d558c7f8069c81e9fea8d11863a085739b64",
   "display_name": "Python 3.9.2 64-bit ('env')"
  }
 },
 "nbformat": 4,
 "nbformat_minor": 2,
 "cells": [
  {
   "cell_type": "code",
   "execution_count": 16,
   "metadata": {},
   "outputs": [],
   "source": [
    "import csv\n",
    "import json\n",
    "import os\n",
    "import requests\n",
    "import pandas as pd\n",
    "from dotenv import load_dotenv"
   ]
  },
  {
   "source": [
    "Loading json file containing hotel data"
   ],
   "cell_type": "markdown",
   "metadata": {}
  },
  {
   "cell_type": "code",
   "execution_count": 17,
   "metadata": {},
   "outputs": [],
   "source": [
    "json_file = \"Singapore.json\"  # to edit\n",
    "filepath = \"/Users/pritish/projects/Hotels-Decision-Support-and-Sentimental-Analysis\" #to edit\n",
    "\n",
    "with open(os.path.join(filepath,json_file)) as file:\n",
    "    data = json.load(file)"
   ]
  },
  {
   "source": [
    "Requesting geocode data through geocodeapi using hotel addresses."
   ],
   "cell_type": "markdown",
   "metadata": {}
  },
  {
   "cell_type": "code",
   "execution_count": 18,
   "metadata": {},
   "outputs": [
    {
     "output_type": "stream",
     "name": "stdout",
     "text": [
      "The Fullerton Hotel Singapore\n",
      "Shangri-La Hotel, Singapore\n",
      "Pan Pacific Singapore Hotel\n",
      "Orchard Hotel Singapore\n",
      "PARKROYAL COLLECTION Marina Bay, Singapore Hotel\n",
      "Marina Bay Sands Hotel, Singapore\n",
      "Goodwood Park Hotel, Singapore\n",
      "Park Hotel Alexandra, Singapore\n",
      "Park Hotel Clarke Quay, Singapore\n",
      "PARKROYAL COLLECTION Pickering, Singapore Hotel\n",
      "Carlton Hotel Singapore\n",
      "Capri by Fraser Changi City Hotel, Singapore\n",
      "YOTEL Singapore Hotel\n",
      "Ascott Orchard Singapore Hotel\n",
      "Mandarin Orchard Singapore Hotel\n",
      "Lloyd's Inn Singapore Hotel\n",
      "Grand Park Orchard Hotel, Singapore\n",
      "Hotel NuVe Heritage, Singapore\n",
      "Hotel G Singapore\n",
      "YOTELAIR Singapore Changi Airport Hotel\n"
     ]
    }
   ],
   "source": [
    "load_dotenv()\n",
    "API_KEY = os.getenv('GEOCODE_API_KEY')\n",
    "url = 'https://app.geocodeapi.io/api/v1/search'\n",
    "\n",
    "for i in data.keys():\n",
    "    address = data[i]['address']\n",
    "    response = requests.get(url, params = {'apikey': API_KEY,'text': address}).json()\n",
    "    # accessing coordinates\n",
    "    features = response['features']\n",
    "    geometry = features[0]['geometry']\n",
    "    coord = geometry['coordinates']\n",
    "    # Add geocode data to hotel data\n",
    "    data[i]['geocode'] = coord\n",
    "    print(i)"
   ]
  },
  {
   "source": [
    "Adding co-ordinates to JSON data files"
   ],
   "cell_type": "markdown",
   "metadata": {}
  },
  {
   "cell_type": "code",
   "execution_count": 19,
   "metadata": {},
   "outputs": [],
   "source": [
    "with open(os.path.join(filepath,json_file), 'w') as outfile:\n",
    "            json.dump(data, outfile, indent=4)"
   ]
  },
  {
   "source": [
    "Extracting hotel names and geocodes into a Data Frame"
   ],
   "cell_type": "markdown",
   "metadata": {}
  },
  {
   "cell_type": "code",
   "execution_count": 20,
   "metadata": {},
   "outputs": [
    {
     "output_type": "execute_result",
     "data": {
      "text/plain": [
       "                                         Hotel_Name   Longitude  Latitude\n",
       "0                     The Fullerton Hotel Singapore  103.853122  1.286165\n",
       "1                       Shangri-La Hotel, Singapore  103.833828  1.316382\n",
       "2                       Pan Pacific Singapore Hotel  103.833828  1.316382\n",
       "3                           Orchard Hotel Singapore  103.828164  1.307669\n",
       "4  PARKROYAL COLLECTION Marina Bay, Singapore Hotel  103.833828  1.316382"
      ],
      "text/html": "<div>\n<style scoped>\n    .dataframe tbody tr th:only-of-type {\n        vertical-align: middle;\n    }\n\n    .dataframe tbody tr th {\n        vertical-align: top;\n    }\n\n    .dataframe thead th {\n        text-align: right;\n    }\n</style>\n<table border=\"1\" class=\"dataframe\">\n  <thead>\n    <tr style=\"text-align: right;\">\n      <th></th>\n      <th>Hotel_Name</th>\n      <th>Longitude</th>\n      <th>Latitude</th>\n    </tr>\n  </thead>\n  <tbody>\n    <tr>\n      <th>0</th>\n      <td>The Fullerton Hotel Singapore</td>\n      <td>103.853122</td>\n      <td>1.286165</td>\n    </tr>\n    <tr>\n      <th>1</th>\n      <td>Shangri-La Hotel, Singapore</td>\n      <td>103.833828</td>\n      <td>1.316382</td>\n    </tr>\n    <tr>\n      <th>2</th>\n      <td>Pan Pacific Singapore Hotel</td>\n      <td>103.833828</td>\n      <td>1.316382</td>\n    </tr>\n    <tr>\n      <th>3</th>\n      <td>Orchard Hotel Singapore</td>\n      <td>103.828164</td>\n      <td>1.307669</td>\n    </tr>\n    <tr>\n      <th>4</th>\n      <td>PARKROYAL COLLECTION Marina Bay, Singapore Hotel</td>\n      <td>103.833828</td>\n      <td>1.316382</td>\n    </tr>\n  </tbody>\n</table>\n</div>"
     },
     "metadata": {},
     "execution_count": 20
    }
   ],
   "source": [
    "to_add = []\n",
    "columns = ['Hotel_Name','Longitude','Latitude']\n",
    "for i in data.keys():\n",
    "    values = [i, data[i]['geocode'][0], data[i]['geocode'][1]]\n",
    "    zipped_dict = dict(zip(columns, values))\n",
    "    to_add.append(zipped_dict)\n",
    "# Making pandas dataframe\n",
    "df = pd.DataFrame(to_add)\n",
    "df.head()"
   ]
  },
  {
   "source": [
    "Write geocode pertinent data to a csv file\n"
   ],
   "cell_type": "markdown",
   "metadata": {}
  },
  {
   "cell_type": "code",
   "execution_count": 21,
   "metadata": {},
   "outputs": [],
   "source": [
    "output_filename = json_file[:-5]\n",
    "with open(os.path.join(filepath,f'{output_filename}_hotelsGeocode.csv'), 'w', newline='') as file:\n",
    "    df.to_csv(file)"
   ]
  }
 ]
}