{
 "metadata": {
  "language_info": {
   "codemirror_mode": {
    "name": "ipython",
    "version": 3
   },
   "file_extension": ".py",
   "mimetype": "text/x-python",
   "name": "python",
   "nbconvert_exporter": "python",
   "pygments_lexer": "ipython3",
   "version": "3.8.5-final"
  },
  "orig_nbformat": 2,
  "kernelspec": {
   "name": "python385jvsc74a57bd023f0105a070d1d59ef6680310d87a47d18f97397f0cab46047816bd0620257e2",
   "display_name": "Python 3.8.5 64-bit (conda)"
  }
 },
 "nbformat": 4,
 "nbformat_minor": 2,
 "cells": [
  {
   "cell_type": "code",
   "execution_count": 30,
   "metadata": {},
   "outputs": [],
   "source": [
    "from collections import defaultdict, Counter\n",
    "import json\n",
    "import string\n",
    "from pathlib import Path\n",
    "import os\n",
    "from nltk.tokenize import word_tokenize\n",
    "from nltk.corpus import stopwords\n",
    "import pandas as pd\n",
    "import numpy as np\n",
    "from nltk.sentiment.vader import SentimentIntensityAnalyzer\n",
    "import statistics\n",
    "import csv\n",
    "\n",
    "current_path = str(Path().absolute())\n",
    "link_to_data = current_path + \"/Singapore.json\"\n",
    "\n",
    "with open(link_to_data) as f:\n",
    "\tdata = json.loads(f.read())"
   ]
  },
  {
   "cell_type": "code",
   "execution_count": 31,
   "metadata": {},
   "outputs": [
    {
     "output_type": "stream",
     "name": "stdout",
     "text": [
      "[['The Fullerton Hotel Singapore', 9.641, '1 Fullerton Square, Singapore 049178 Singapore'], ['Shangri-La Hotel, Singapore', 9.673, '22 Orange Grove Rd Orchard Road, Singapore 258350 Singapore'], ['Pan Pacific Singapore Hotel', 9.419, '7 Raffles Boulevard Marina Square, Singapore 039595 Singapore'], ['Orchard Hotel Singapore', 9.158999999999999, '442 Orchard Road, Singapore 238879 Singapore'], ['PARKROYAL COLLECTION Marina Bay, Singapore Hotel', 9.628, '6 Raffles Boulevard,Marina Square, Singapore 039594 Singapore'], ['Marina Bay Sands Hotel, Singapore', 9.624500000000001, '10 Bayfront Avenue, Singapore 018956 Singapore'], ['Goodwood Park Hotel, Singapore', 9.4155, '22 Scotts Road Goodwood Park Hotel, Singapore 228221 Singapore'], ['Park Hotel Alexandra, Singapore', 9.2985, '323 Alexandra Road Alexandra Central, Singapore 159972 Singapore'], ['Park Hotel Clarke Quay, Singapore', 9.2385, '1 Unity Street, Singapore 237983 Singapore'], ['PARKROYAL COLLECTION Pickering, Singapore Hotel', 9.1035, '3 Upper Pickering Street, Singapore 058289 Singapore'], ['Carlton Hotel Singapore', 9.3505, '76 Bras Basah Rd, Singapore 189558 Singapore'], ['Capri by Fraser Changi City Hotel, Singapore', 9.413, '3 Changi Business Park Central 1 Capri By Fraser Changi City, Singapore 486037 Singapore'], ['YOTEL Singapore Hotel', 9.126000000000001, '366 Orchard Road Yotel Singapore Orchard Road, Singapore 238904 Singapore'], ['Ascott Orchard Singapore Hotel', 9.058, '11 Cairnhill Road Ascott Orchard Singapore, Singapore 229724 Singapore'], ['Mandarin Orchard Singapore Hotel', 9.196, '333 Orchard Road, Singapore 238867 Singapore'], [\"Lloyd's Inn Singapore Hotel\", 9.5045, \"2 Lloyd Road Lloyd's Inn, Singapore 239091 Singapore\"], ['Grand Park Orchard Hotel, Singapore', 9.059000000000001, '270 Orchard Road Grand Park Orchard, Singapore 238857 Singapore'], ['Hotel NuVe Heritage, Singapore', 9.5345, '13 Purvis Street, Singapore 188592 Singapore'], ['Hotel G Singapore', 9.5625, '200 Middle Road Hotel G Singapore, Singapore 188980 Singapore'], ['YOTELAIR Singapore Changi Airport Hotel', 9.189499999999999, '78 Airport Boulevard #04-280, Singapore 819666 Singapore']]\n\n\n\n[['Ascott Orchard Singapore Hotel', 9.058, '11 Cairnhill Road Ascott Orchard Singapore, Singapore 229724 Singapore'], ['Capri by Fraser Changi City Hotel, Singapore', 9.413, '3 Changi Business Park Central 1 Capri By Fraser Changi City, Singapore 486037 Singapore'], ['Carlton Hotel Singapore', 9.3505, '76 Bras Basah Rd, Singapore 189558 Singapore'], ['Goodwood Park Hotel, Singapore', 9.4155, '22 Scotts Road Goodwood Park Hotel, Singapore 228221 Singapore'], ['Grand Park Orchard Hotel, Singapore', 9.059000000000001, '270 Orchard Road Grand Park Orchard, Singapore 238857 Singapore'], ['Hotel G Singapore', 9.5625, '200 Middle Road Hotel G Singapore, Singapore 188980 Singapore'], ['Hotel NuVe Heritage, Singapore', 9.5345, '13 Purvis Street, Singapore 188592 Singapore'], [\"Lloyd's Inn Singapore Hotel\", 9.5045, \"2 Lloyd Road Lloyd's Inn, Singapore 239091 Singapore\"], ['Mandarin Orchard Singapore Hotel', 9.196, '333 Orchard Road, Singapore 238867 Singapore'], ['Marina Bay Sands Hotel, Singapore', 9.624500000000001, '10 Bayfront Avenue, Singapore 018956 Singapore'], ['Orchard Hotel Singapore', 9.158999999999999, '442 Orchard Road, Singapore 238879 Singapore'], ['PARKROYAL COLLECTION Marina Bay, Singapore Hotel', 9.628, '6 Raffles Boulevard,Marina Square, Singapore 039594 Singapore'], ['PARKROYAL COLLECTION Pickering, Singapore Hotel', 9.1035, '3 Upper Pickering Street, Singapore 058289 Singapore'], ['Pan Pacific Singapore Hotel', 9.419, '7 Raffles Boulevard Marina Square, Singapore 039595 Singapore'], ['Park Hotel Alexandra, Singapore', 9.2985, '323 Alexandra Road Alexandra Central, Singapore 159972 Singapore'], ['Park Hotel Clarke Quay, Singapore', 9.2385, '1 Unity Street, Singapore 237983 Singapore'], ['Shangri-La Hotel, Singapore', 9.673, '22 Orange Grove Rd Orchard Road, Singapore 258350 Singapore'], ['The Fullerton Hotel Singapore', 9.641, '1 Fullerton Square, Singapore 049178 Singapore'], ['YOTEL Singapore Hotel', 9.126000000000001, '366 Orchard Road Yotel Singapore Orchard Road, Singapore 238904 Singapore'], ['YOTELAIR Singapore Changi Airport Hotel', 9.189499999999999, '78 Airport Boulevard #04-280, Singapore 819666 Singapore']]\n"
     ]
    }
   ],
   "source": [
    "# Final and initial score array \n",
    "checkout_array = list()\n",
    "checkout_hotel_details_array = list()\n",
    "\n",
    "for key, value in data.items():\n",
    "    sums = 0\n",
    "    temp_list = list()   \n",
    "    if 'reviews' in value:\n",
    "        for name, review in value['reviews'].items():\n",
    "                current_review=review['review_text']\n",
    "                # Converts uppercase letters to lowercase\n",
    "                current_review = current_review.lower()\n",
    "                # Removes special characters from the review comments \n",
    "                review_comments = current_review.translate(str.maketrans('', '', string.punctuation))\n",
    "                # Creates tokenize words \n",
    "                tokenized_reviews = word_tokenize(review_comments,\"english\")\n",
    "                #Removing the stop words from the comments \n",
    "                final_review_comments = list() \n",
    "                # Loop over the tokenized reviews, and append the non stop words \n",
    "                for word in tokenized_reviews:\n",
    "                        if word not in stopwords.words('english'):\n",
    "                                final_review_comments.append(word)\n",
    "                # Function to count the sentiments of the given reviews for the hotel        \n",
    "                def analyse_sentiment(sentiment_text):\n",
    "                        score = SentimentIntensityAnalyzer().polarity_scores(sentiment_text)\n",
    "                        negative = score['neg']\n",
    "                        positive = score['pos']\n",
    "                        neutral = score['neu']\n",
    "                        compound = score['compound']\n",
    "                        #print(score)\n",
    "                        return compound\n",
    "\n",
    "                total = analyse_sentiment(review_comments)\n",
    "                #         print(abs(total))\n",
    "                #         sums += abs(total)\n",
    "                        # Append the compound\n",
    "                temp_list.append(abs(total))\n",
    "                \n",
    "         \n",
    "        checkout_hotel_details_array.append([key, statistics.median(temp_list) * 10,value['address']])\n",
    "print( checkout_hotel_details_array)\n",
    "print('\\n\\n')\n",
    "#printing the sorted array\n",
    "checkout_hotel_details_array.sort()\n",
    "print(checkout_hotel_details_array)"
   ]
  }
 ]
}