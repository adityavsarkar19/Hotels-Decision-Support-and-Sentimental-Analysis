{
 "metadata": {
  "language_info": {
   "codemirror_mode": {
    "name": "ipython",
    "version": 3
   },
   "file_extension": ".py",
   "mimetype": "text/x-python",
   "name": "python",
   "nbconvert_exporter": "python",
   "pygments_lexer": "ipython3",
   "version": 3
  },
  "orig_nbformat": 2
 },
 "nbformat": 4,
 "nbformat_minor": 2,
 "cells": [
  {
   "cell_type": "code",
   "execution_count": null,
   "metadata": {},
   "outputs": [],
   "source": [
    "\timport string\n",
    "\tfrom pathlib import Path\n",
    "\timport os\n",
    "\timport pandas as pd\n",
    "\timport statistics\n",
    "\timport csv\n",
    "\t\n",
    "\n",
    "\t#Fetching the link to the json data\n",
    "\t# Path(__file__).parent.absolute()\n",
    "\tcurrent_path = str(Path().absolute())\n",
    "\tlink_to_data = current_path + \"Bangkok.json\"\n",
    "\t\n",
    "\n",
    "\t# Final and initial score array\n",
    "\tcheckout_hotel_initial_details_array = list()\n",
    "\t\n",
    "\n",
    "\t#Reading json/csv file with all the data\n",
    "\twith open(link_to_data) as f:\n",
    "\t\tdata = json.loads(f.read())\n",
    "\tfor key, value in data.items():\n",
    "\t    checkout_hotel_initial_details_array.append([key,value[\"avg_rating\"]])\n",
    "\t\n",
    "\n",
    "\t\n",
    "\n",
    "\tprint( checkout_hotel_initial_details_array)\n",
    "\tprint('\\n\\n')\n",
    "\n",
    "\tcheckout_hotel_initial_details_array.sort()\n",
    "\tprint(checkout_hotel_initial_details_array)\n",
    "\t\n",
    "\n",
    "\t# Saving the top 10 hotels data to json\n",
    "\tBangkok_hotel_final = json.dumps(checkout_hotel_initial_details_array[10: ], indent = 4)\n",
    "\twith open ('Bangkok_initial_details.json', 'w') as f:\n",
    "\t    f.write(Bangkok_hotel_final)\n",
    "\t# Saving the top 10 hotels data to csv\n",
    "\twith open('Bangkok_initial_details.csv', 'w', newline='') as myfile:\n",
    "\t    header_names = [\"V1\", \"V2\"]\n",
    "\t    wr = csv.writer(myfile)\n",
    "\t    wr.writerows(checkout_hotel_initial_details_array[10: ])\n"
   ]
  }
 ]
}