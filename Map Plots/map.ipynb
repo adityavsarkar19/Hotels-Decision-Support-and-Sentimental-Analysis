{
 "metadata": {
  "language_info": {
   "codemirror_mode": {
    "name": "ipython",
    "version": 3
   },
   "file_extension": ".py",
   "mimetype": "text/x-python",
   "name": "python",
   "nbconvert_exporter": "python",
   "pygments_lexer": "ipython3",
   "version": "3.9.2"
  },
  "orig_nbformat": 2,
  "kernelspec": {
   "name": "python392jvsc74a57bd01fb59a1ceeb0efbd7f3c1dc5e3b1d558c7f8069c81e9fea8d11863a085739b64",
   "display_name": "Python 3.9.2 64-bit ('env')"
  }
 },
 "nbformat": 4,
 "nbformat_minor": 2,
 "cells": [
  {
   "cell_type": "code",
   "execution_count": null,
   "metadata": {},
   "outputs": [],
   "source": [
    "import pandas as pd\n",
    "import numpy as np\n",
    "import matplotlib.pyplot as plt\n",
    "import os\n",
    "from dotenv import load_dotenv"
   ]
  },
  {
   "source": [
    "Loading data from CSV files"
   ],
   "cell_type": "markdown",
   "metadata": {}
  },
  {
   "cell_type": "code",
   "execution_count": null,
   "metadata": {},
   "outputs": [],
   "source": [
    "filepath1 = '/Users/pritish/projects/Hotels-Decision-Support-and-Sentimental-Analysis/Map Plots/top10_initialmaps'\n",
    "filepath2 = '/Users/pritish/projects/Hotels-Decision-Support-and-Sentimental-Analysis/Map Plots/top10_polaritymaps/'\n",
    "filename = 'KualaLumpur_Polarity_Coords.csv'\n",
    "\n",
    "df = pd.read_csv(os.path.join(filepath2, filename))\n",
    "df"
   ]
  },
  {
   "source": [
    "Using Mapbox"
   ],
   "cell_type": "markdown",
   "metadata": {}
  },
  {
   "cell_type": "code",
   "execution_count": null,
   "metadata": {},
   "outputs": [],
   "source": [
    "load_dotenv()\n",
    "apitoken = os.getenv('mapbox_token')\n",
    "\n",
    "import plotly.graph_objects as go\n",
    "mapbox_access_token = apitoken"
   ]
  },
  {
   "cell_type": "code",
   "execution_count": null,
   "metadata": {},
   "outputs": [],
   "source": [
    "# fig = px.scatter_mapbox(df, lat=\"Latitude\", lon=\"Longitude\", size_max=100, zoom=10, hover_name=\"Hotel_name\", center={'lat':df['Latitude'].mean(),'lon':df['Longitude'].mean()})\n",
    "# fig.show()\n",
    "fig = go.Figure(go.Scattermapbox(\n",
    "        lat= df['Latitude'],\n",
    "        lon= df['Longitude'],\n",
    "        mode='markers',\n",
    "        marker=go.scattermapbox.Marker(\n",
    "            size=6\n",
    "        ),\n",
    "        text= df['Hotel_name'],\n",
    "    ))\n",
    "\n",
    "fig.update_layout(\n",
    "    title_text = 'Kuala Lumpur - Top 10 hotels based on overall calculated polarity score',\n",
    "    autosize=True,\n",
    "    hovermode='closest',\n",
    "    mapbox=dict(\n",
    "        accesstoken=mapbox_access_token,\n",
    "        bearing=0,\n",
    "        center=dict(\n",
    "            lat=df['Latitude'].mean(),\n",
    "            lon=df['Longitude'].mean()\n",
    "        ),\n",
    "        pitch=0,\n",
    "        zoom=12\n",
    "    ),\n",
    ")\n",
    "\n",
    "fig.show()"
   ]
  }
 ]
}