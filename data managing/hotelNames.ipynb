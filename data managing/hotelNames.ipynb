{
 "metadata": {
  "language_info": {
   "codemirror_mode": {
    "name": "ipython",
    "version": 3
   },
   "file_extension": ".py",
   "mimetype": "text/x-python",
   "name": "python",
   "nbconvert_exporter": "python",
   "pygments_lexer": "ipython3",
   "version": "3.9.2"
  },
  "orig_nbformat": 2,
  "kernelspec": {
   "name": "python392jvsc74a57bd01fb59a1ceeb0efbd7f3c1dc5e3b1d558c7f8069c81e9fea8d11863a085739b64",
   "display_name": "Python 3.9.2 64-bit ('env')"
  }
 },
 "nbformat": 4,
 "nbformat_minor": 2,
 "cells": [
  {
   "cell_type": "code",
   "execution_count": 1,
   "metadata": {},
   "outputs": [],
   "source": [
    "import csv\n",
    "import json\n",
    "import os"
   ]
  },
  {
   "source": [
    "Loading json file containing hotel data"
   ],
   "cell_type": "markdown",
   "metadata": {}
  },
  {
   "cell_type": "code",
   "execution_count": 2,
   "metadata": {},
   "outputs": [],
   "source": [
    "json_file = \"Singapore.json\"  # to edit\n",
    "filepath = \"/Users/pritish/projects/Hotels-Decision-Support-and-Sentimental-Analysis\"\n",
    "\n",
    "with open(os.path.join(filepath,json_file)) as file:\n",
    "    data = json.load(file)"
   ]
  },
  {
   "source": [
    "Indexing and extracting hotel names into a list"
   ],
   "cell_type": "markdown",
   "metadata": {}
  },
  {
   "cell_type": "code",
   "execution_count": 3,
   "metadata": {},
   "outputs": [],
   "source": [
    "row_list = [['Index','Name']]\n",
    "for i in enumerate(data.keys(), 1):\n",
    "    add = []\n",
    "    add.append(i[0])\n",
    "    add.append(i[1])\n",
    "    row_list.append(add)\n"
   ]
  },
  {
   "source": [
    "writing list of hotel names into csv"
   ],
   "cell_type": "markdown",
   "metadata": {}
  },
  {
   "cell_type": "code",
   "execution_count": 4,
   "metadata": {},
   "outputs": [],
   "source": [
    "output_filename = json_file[:-5]\n",
    "with open(os.path.join(filepath,f'{output_filename}_hotelNames.csv'), 'w', newline='') as file:\n",
    "    writer = csv.writer(file)\n",
    "    writer.writerows(row_list)"
   ]
  }
 ]
}