{
 "metadata": {
  "language_info": {
   "codemirror_mode": {
    "name": "ipython",
    "version": 3
   },
   "file_extension": ".py",
   "mimetype": "text/x-python",
   "name": "python",
   "nbconvert_exporter": "python",
   "pygments_lexer": "ipython3",
   "version": "3.9.2"
  },
  "orig_nbformat": 2,
  "kernelspec": {
   "name": "python392jvsc74a57bd01fb59a1ceeb0efbd7f3c1dc5e3b1d558c7f8069c81e9fea8d11863a085739b64",
   "display_name": "Python 3.9.2 64-bit ('env')"
  }
 },
 "nbformat": 4,
 "nbformat_minor": 2,
 "cells": [
  {
   "cell_type": "code",
   "execution_count": 1,
   "metadata": {},
   "outputs": [],
   "source": [
    "import os \n",
    "import json"
   ]
  },
  {
   "cell_type": "code",
   "execution_count": 2,
   "metadata": {},
   "outputs": [],
   "source": [
    "json_file = \"Kuala_Lumpur.json\"  # to edit\n",
    "filepath = \"/Users/pritish/projects/Hotels-Decision-Support-and-Sentimental-Analysis\" #to edit\n",
    "\n",
    "with open(os.path.join(filepath,json_file)) as file:\n",
    "    data = json.load(file)"
   ]
  },
  {
   "cell_type": "code",
   "execution_count": 3,
   "metadata": {},
   "outputs": [],
   "source": [
    "for i in data.keys():\n",
    "    data[i]['avg_rating'] = (data[i]['avg_rating'])/5.0\n",
    "    for r in data[i]['reviews']:\n",
    "        review = data[i]['reviews'][r]\n",
    "        review['rating'] = (review['rating'])/5.0"
   ]
  },
  {
   "source": [
    "Updating JSON file"
   ],
   "cell_type": "markdown",
   "metadata": {}
  },
  {
   "cell_type": "code",
   "execution_count": 4,
   "metadata": {},
   "outputs": [],
   "source": [
    "with open(os.path.join(filepath,json_file), 'w') as outfile:\n",
    "            json.dump(data, outfile, indent=4)"
   ]
  }
 ]
}