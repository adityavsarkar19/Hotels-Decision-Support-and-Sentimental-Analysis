{
 "metadata": {
  "language_info": {
   "codemirror_mode": {
    "name": "ipython",
    "version": 3
   },
   "file_extension": ".py",
   "mimetype": "text/x-python",
   "name": "python",
   "nbconvert_exporter": "python",
   "pygments_lexer": "ipython3",
   "version": "3.9.2"
  },
  "orig_nbformat": 2,
  "kernelspec": {
   "name": "python392jvsc74a57bd01fb59a1ceeb0efbd7f3c1dc5e3b1d558c7f8069c81e9fea8d11863a085739b64",
   "display_name": "Python 3.9.2 64-bit ('env')"
  }
 },
 "nbformat": 4,
 "nbformat_minor": 2,
 "cells": [
  {
   "cell_type": "code",
   "execution_count": 6,
   "metadata": {},
   "outputs": [],
   "source": [
    "import csv\n",
    "import json\n",
    "import os\n",
    "import requests\n",
    "import pandas as pd\n",
    "from dotenv import load_dotenv; load_dotenv()"
   ]
  },
  {
   "source": [
    "Loading json file containing hotel data"
   ],
   "cell_type": "markdown",
   "metadata": {}
  },
  {
   "cell_type": "code",
   "execution_count": 2,
   "metadata": {},
   "outputs": [],
   "source": [
    "json_file = \"Kuala_Lumpur.json\"  # to edit\n",
    "filepath = \"/Users/pritish/projects/Hotels-Decision-Support-and-Sentimental-Analysis\" #to edit\n",
    "\n",
    "with open(os.path.join(filepath,json_file)) as file:\n",
    "    data = json.load(file)"
   ]
  },
  {
   "source": [
    "Requesting geocode data through mapbox using hotel names."
   ],
   "cell_type": "markdown",
   "metadata": {}
  },
  {
   "cell_type": "code",
   "execution_count": null,
   "metadata": {},
   "outputs": [],
   "source": [
    "token = os.getenv('mapbox_token')\n",
    "\n",
    "for name in data.keys():\n",
    "    search_text = name\n",
    "    url = f\"https://api.mapbox.com/geocoding/v5/mapbox.places/{search_text}.json\"\n",
    "    response = requests.get(url, params = {'access_token':token}).json()\n",
    "    # accessing coordinates\n",
    "    features = response['features']\n",
    "    geometry = features[0]['geometry']\n",
    "    coordinates = geometry['coordinates']\n",
    "    # Add geocode data to hotel data\n",
    "    data[name]['geocode'] = coordinates\n",
    "    print(name)"
   ]
  },
  {
   "source": [
    "Adding co-ordinates to JSON data files"
   ],
   "cell_type": "markdown",
   "metadata": {}
  },
  {
   "cell_type": "code",
   "execution_count": null,
   "metadata": {},
   "outputs": [],
   "source": [
    "with open(os.path.join(filepath,json_file), 'w') as outfile:\n",
    "            json.dump(data, outfile, indent=4)"
   ]
  },
  {
   "source": [
    "Extracting hotel names and geocodes into a Data Frame"
   ],
   "cell_type": "markdown",
   "metadata": {}
  },
  {
   "cell_type": "code",
   "execution_count": 3,
   "metadata": {},
   "outputs": [
    {
     "output_type": "execute_result",
     "data": {
      "text/plain": [
       "                                    Hotel_Name   Longitude  Latitude\n",
       "0                   Element Kuala Lumpur Hotel  101.685774  3.135573\n",
       "1  The RuMa Hotel and Residences, Kuala Lumpur  101.714528  3.152809\n",
       "2              Four Seasons Hotel Kuala Lumpur  101.713893  3.158010\n",
       "3        Mandarin Oriental, Kuala Lumpur Hotel  101.711847  3.156755\n",
       "4               Banyan Tree Kuala Lumpur Hotel  101.665405  3.170819"
      ],
      "text/html": "<div>\n<style scoped>\n    .dataframe tbody tr th:only-of-type {\n        vertical-align: middle;\n    }\n\n    .dataframe tbody tr th {\n        vertical-align: top;\n    }\n\n    .dataframe thead th {\n        text-align: right;\n    }\n</style>\n<table border=\"1\" class=\"dataframe\">\n  <thead>\n    <tr style=\"text-align: right;\">\n      <th></th>\n      <th>Hotel_Name</th>\n      <th>Longitude</th>\n      <th>Latitude</th>\n    </tr>\n  </thead>\n  <tbody>\n    <tr>\n      <th>0</th>\n      <td>Element Kuala Lumpur Hotel</td>\n      <td>101.685774</td>\n      <td>3.135573</td>\n    </tr>\n    <tr>\n      <th>1</th>\n      <td>The RuMa Hotel and Residences, Kuala Lumpur</td>\n      <td>101.714528</td>\n      <td>3.152809</td>\n    </tr>\n    <tr>\n      <th>2</th>\n      <td>Four Seasons Hotel Kuala Lumpur</td>\n      <td>101.713893</td>\n      <td>3.158010</td>\n    </tr>\n    <tr>\n      <th>3</th>\n      <td>Mandarin Oriental, Kuala Lumpur Hotel</td>\n      <td>101.711847</td>\n      <td>3.156755</td>\n    </tr>\n    <tr>\n      <th>4</th>\n      <td>Banyan Tree Kuala Lumpur Hotel</td>\n      <td>101.665405</td>\n      <td>3.170819</td>\n    </tr>\n  </tbody>\n</table>\n</div>"
     },
     "metadata": {},
     "execution_count": 3
    }
   ],
   "source": [
    "to_add = []\n",
    "columns = ['Hotel_Name','Longitude','Latitude']\n",
    "for i in data.keys():\n",
    "    values = [i, data[i]['geocode'][0], data[i]['geocode'][1]]\n",
    "    zipped_dict = dict(zip(columns, values))\n",
    "    to_add.append(zipped_dict)\n",
    "# Making pandas dataframe\n",
    "df = pd.DataFrame(to_add)\n",
    "df.head()"
   ]
  },
  {
   "source": [
    "Write geocode pertinent data to a csv file\n"
   ],
   "cell_type": "markdown",
   "metadata": {}
  },
  {
   "cell_type": "code",
   "execution_count": 4,
   "metadata": {},
   "outputs": [],
   "source": [
    "output_filename = json_file[:-5]\n",
    "with open(os.path.join(filepath,f'{output_filename}_hotelsGeocode.csv'), 'w', newline='') as file:\n",
    "    df.to_csv(file)"
   ]
  }
 ]
}